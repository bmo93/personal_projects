{
 "cells": [
  {
   "cell_type": "code",
   "execution_count": 1,
   "metadata": {
    "collapsed": true
   },
   "outputs": [],
   "source": [
    "import pandas as pd\n",
    "import numpy as np\n",
    "import matplotlib.pyplot as plt\n",
    "from matplotlib.lines import Line2D\n",
    "import seaborn as sns\n",
    "\n",
    "cmap = plt.cm.tab20c\n",
    "cmap_c = [cmap(1),cmap(5),cmap(9),cmap(13),cmap(17)]\n",
    "\n",
    "%matplotlib inline"
   ]
  },
  {
   "cell_type": "markdown",
   "metadata": {},
   "source": [
    "## Data loading"
   ]
  },
  {
   "cell_type": "code",
   "execution_count": 2,
   "metadata": {
    "scrolled": true
   },
   "outputs": [
    {
     "name": "stdout",
     "output_type": "stream",
     "text": [
      "(347, 17)\n"
     ]
    },
    {
     "data": {
      "text/html": [
       "<div>\n",
       "<style>\n",
       "    .dataframe thead tr:only-child th {\n",
       "        text-align: right;\n",
       "    }\n",
       "\n",
       "    .dataframe thead th {\n",
       "        text-align: left;\n",
       "    }\n",
       "\n",
       "    .dataframe tbody tr th {\n",
       "        vertical-align: top;\n",
       "    }\n",
       "</style>\n",
       "<table border=\"1\" class=\"dataframe\">\n",
       "  <thead>\n",
       "    <tr style=\"text-align: right;\">\n",
       "      <th></th>\n",
       "      <th>Unnamed: 0</th>\n",
       "      <th>track</th>\n",
       "      <th>album</th>\n",
       "      <th>artist</th>\n",
       "      <th>danceability</th>\n",
       "      <th>energy</th>\n",
       "      <th>loudness</th>\n",
       "      <th>speechiness</th>\n",
       "      <th>acousticness</th>\n",
       "      <th>instrumentalness</th>\n",
       "      <th>liveness</th>\n",
       "      <th>valence</th>\n",
       "      <th>tempo</th>\n",
       "      <th>duration_ms</th>\n",
       "      <th>key</th>\n",
       "      <th>mode</th>\n",
       "      <th>time_signature</th>\n",
       "    </tr>\n",
       "  </thead>\n",
       "  <tbody>\n",
       "    <tr>\n",
       "      <th>0</th>\n",
       "      <td>00ogmsZiK6dB0QVUDBeehZ</td>\n",
       "      <td>Soliloquy</td>\n",
       "      <td>Cilvia Demo</td>\n",
       "      <td>Isaiah Rashad</td>\n",
       "      <td>0.361</td>\n",
       "      <td>0.793</td>\n",
       "      <td>-2.008</td>\n",
       "      <td>0.0507</td>\n",
       "      <td>0.0111</td>\n",
       "      <td>0.0000</td>\n",
       "      <td>0.223</td>\n",
       "      <td>0.314</td>\n",
       "      <td>76.082</td>\n",
       "      <td>106463</td>\n",
       "      <td>0</td>\n",
       "      <td>1</td>\n",
       "      <td>4</td>\n",
       "    </tr>\n",
       "    <tr>\n",
       "      <th>1</th>\n",
       "      <td>01wKeKPgYxdPYA8rfMveYc</td>\n",
       "      <td>Shot You Down (feat. Jay Rock &amp; ScHoolboy Q)</td>\n",
       "      <td>Cilvia Demo</td>\n",
       "      <td>Isaiah Rashad</td>\n",
       "      <td>0.682</td>\n",
       "      <td>0.717</td>\n",
       "      <td>-3.682</td>\n",
       "      <td>0.2460</td>\n",
       "      <td>0.3850</td>\n",
       "      <td>0.0000</td>\n",
       "      <td>0.152</td>\n",
       "      <td>0.507</td>\n",
       "      <td>90.147</td>\n",
       "      <td>426997</td>\n",
       "      <td>1</td>\n",
       "      <td>1</td>\n",
       "      <td>4</td>\n",
       "    </tr>\n",
       "    <tr>\n",
       "      <th>2</th>\n",
       "      <td>0Gt4nGWoATcQFL38a1NRao</td>\n",
       "      <td>West Savannah (feat. SZA)</td>\n",
       "      <td>Cilvia Demo</td>\n",
       "      <td>Isaiah Rashad</td>\n",
       "      <td>0.652</td>\n",
       "      <td>0.906</td>\n",
       "      <td>-4.032</td>\n",
       "      <td>0.1610</td>\n",
       "      <td>0.1300</td>\n",
       "      <td>0.0681</td>\n",
       "      <td>0.504</td>\n",
       "      <td>0.559</td>\n",
       "      <td>125.103</td>\n",
       "      <td>167277</td>\n",
       "      <td>9</td>\n",
       "      <td>1</td>\n",
       "      <td>4</td>\n",
       "    </tr>\n",
       "    <tr>\n",
       "      <th>3</th>\n",
       "      <td>0SC6bK22QGoX8EdgFM13Gv</td>\n",
       "      <td>Hereditary</td>\n",
       "      <td>Cilvia Demo</td>\n",
       "      <td>Isaiah Rashad</td>\n",
       "      <td>0.533</td>\n",
       "      <td>0.743</td>\n",
       "      <td>-6.671</td>\n",
       "      <td>0.0959</td>\n",
       "      <td>0.8710</td>\n",
       "      <td>0.8470</td>\n",
       "      <td>0.759</td>\n",
       "      <td>0.743</td>\n",
       "      <td>97.544</td>\n",
       "      <td>86587</td>\n",
       "      <td>1</td>\n",
       "      <td>0</td>\n",
       "      <td>4</td>\n",
       "    </tr>\n",
       "    <tr>\n",
       "      <th>4</th>\n",
       "      <td>0qLt7pQhm8LDxFgI0YXdlY</td>\n",
       "      <td>Heavenly Father</td>\n",
       "      <td>Cilvia Demo</td>\n",
       "      <td>Isaiah Rashad</td>\n",
       "      <td>0.608</td>\n",
       "      <td>0.676</td>\n",
       "      <td>-7.560</td>\n",
       "      <td>0.2480</td>\n",
       "      <td>0.2120</td>\n",
       "      <td>0.0000</td>\n",
       "      <td>0.347</td>\n",
       "      <td>0.570</td>\n",
       "      <td>80.939</td>\n",
       "      <td>260632</td>\n",
       "      <td>1</td>\n",
       "      <td>1</td>\n",
       "      <td>4</td>\n",
       "    </tr>\n",
       "  </tbody>\n",
       "</table>\n",
       "</div>"
      ],
      "text/plain": [
       "               Unnamed: 0                                         track  \\\n",
       "0  00ogmsZiK6dB0QVUDBeehZ                                     Soliloquy   \n",
       "1  01wKeKPgYxdPYA8rfMveYc  Shot You Down (feat. Jay Rock & ScHoolboy Q)   \n",
       "2  0Gt4nGWoATcQFL38a1NRao                     West Savannah (feat. SZA)   \n",
       "3  0SC6bK22QGoX8EdgFM13Gv                                    Hereditary   \n",
       "4  0qLt7pQhm8LDxFgI0YXdlY                               Heavenly Father   \n",
       "\n",
       "         album         artist  danceability  energy  loudness  speechiness  \\\n",
       "0  Cilvia Demo  Isaiah Rashad         0.361   0.793    -2.008       0.0507   \n",
       "1  Cilvia Demo  Isaiah Rashad         0.682   0.717    -3.682       0.2460   \n",
       "2  Cilvia Demo  Isaiah Rashad         0.652   0.906    -4.032       0.1610   \n",
       "3  Cilvia Demo  Isaiah Rashad         0.533   0.743    -6.671       0.0959   \n",
       "4  Cilvia Demo  Isaiah Rashad         0.608   0.676    -7.560       0.2480   \n",
       "\n",
       "   acousticness  instrumentalness  liveness  valence    tempo  duration_ms  \\\n",
       "0        0.0111            0.0000     0.223    0.314   76.082       106463   \n",
       "1        0.3850            0.0000     0.152    0.507   90.147       426997   \n",
       "2        0.1300            0.0681     0.504    0.559  125.103       167277   \n",
       "3        0.8710            0.8470     0.759    0.743   97.544        86587   \n",
       "4        0.2120            0.0000     0.347    0.570   80.939       260632   \n",
       "\n",
       "   key  mode  time_signature  \n",
       "0    0     1               4  \n",
       "1    1     1               4  \n",
       "2    9     1               4  \n",
       "3    1     0               4  \n",
       "4    1     1               4  "
      ]
     },
     "execution_count": 2,
     "metadata": {},
     "output_type": "execute_result"
    }
   ],
   "source": [
    "af = pd.read_csv('/Users/bryanmolina/Documents/Draft Day Prep/workspace/Python/Spotify Audio Analysis/artist_dataset.csv')\n",
    "print(af.shape)\n",
    "af.head()"
   ]
  },
  {
   "cell_type": "code",
   "execution_count": 3,
   "metadata": {
    "collapsed": true
   },
   "outputs": [],
   "source": [
    "af.set_index(af.columns[0],inplace=True,drop=True)\n",
    "af.index.name = 'id'"
   ]
  },
  {
   "cell_type": "markdown",
   "metadata": {},
   "source": [
    "## Stats\n",
    "\n",
    "A quick overview before exploring later."
   ]
  },
  {
   "cell_type": "code",
   "execution_count": 4,
   "metadata": {},
   "outputs": [
    {
     "data": {
      "text/html": [
       "<div>\n",
       "<style>\n",
       "    .dataframe thead tr:only-child th {\n",
       "        text-align: right;\n",
       "    }\n",
       "\n",
       "    .dataframe thead th {\n",
       "        text-align: left;\n",
       "    }\n",
       "\n",
       "    .dataframe tbody tr th {\n",
       "        vertical-align: top;\n",
       "    }\n",
       "</style>\n",
       "<table border=\"1\" class=\"dataframe\">\n",
       "  <thead>\n",
       "    <tr style=\"text-align: right;\">\n",
       "      <th></th>\n",
       "      <th>track</th>\n",
       "      <th>album</th>\n",
       "      <th>artist</th>\n",
       "    </tr>\n",
       "  </thead>\n",
       "  <tbody>\n",
       "    <tr>\n",
       "      <th>count</th>\n",
       "      <td>347</td>\n",
       "      <td>347</td>\n",
       "      <td>347</td>\n",
       "    </tr>\n",
       "    <tr>\n",
       "      <th>unique</th>\n",
       "      <td>343</td>\n",
       "      <td>24</td>\n",
       "      <td>5</td>\n",
       "    </tr>\n",
       "    <tr>\n",
       "      <th>top</th>\n",
       "      <td>Intro</td>\n",
       "      <td>Born Sinner</td>\n",
       "      <td>Kendrick Lamar</td>\n",
       "    </tr>\n",
       "    <tr>\n",
       "      <th>freq</th>\n",
       "      <td>5</td>\n",
       "      <td>20</td>\n",
       "      <td>96</td>\n",
       "    </tr>\n",
       "  </tbody>\n",
       "</table>\n",
       "</div>"
      ],
      "text/plain": [
       "        track        album          artist\n",
       "count     347          347             347\n",
       "unique    343           24               5\n",
       "top     Intro  Born Sinner  Kendrick Lamar\n",
       "freq        5           20              96"
      ]
     },
     "execution_count": 4,
     "metadata": {},
     "output_type": "execute_result"
    }
   ],
   "source": [
    "#categorical stats\n",
    "af.describe(include=['O'])"
   ]
  },
  {
   "cell_type": "code",
   "execution_count": 5,
   "metadata": {
    "scrolled": false
   },
   "outputs": [
    {
     "data": {
      "text/html": [
       "<div>\n",
       "<style>\n",
       "    .dataframe thead tr:only-child th {\n",
       "        text-align: right;\n",
       "    }\n",
       "\n",
       "    .dataframe thead th {\n",
       "        text-align: left;\n",
       "    }\n",
       "\n",
       "    .dataframe tbody tr th {\n",
       "        vertical-align: top;\n",
       "    }\n",
       "</style>\n",
       "<table border=\"1\" class=\"dataframe\">\n",
       "  <thead>\n",
       "    <tr style=\"text-align: right;\">\n",
       "      <th></th>\n",
       "      <th>danceability</th>\n",
       "      <th>energy</th>\n",
       "      <th>loudness</th>\n",
       "      <th>speechiness</th>\n",
       "      <th>acousticness</th>\n",
       "      <th>instrumentalness</th>\n",
       "      <th>liveness</th>\n",
       "      <th>valence</th>\n",
       "      <th>tempo</th>\n",
       "      <th>duration_ms</th>\n",
       "      <th>key</th>\n",
       "      <th>mode</th>\n",
       "      <th>time_signature</th>\n",
       "    </tr>\n",
       "  </thead>\n",
       "  <tbody>\n",
       "    <tr>\n",
       "      <th>count</th>\n",
       "      <td>347.000000</td>\n",
       "      <td>347.000000</td>\n",
       "      <td>347.000000</td>\n",
       "      <td>347.000000</td>\n",
       "      <td>347.000000</td>\n",
       "      <td>347.000000</td>\n",
       "      <td>347.000000</td>\n",
       "      <td>347.000000</td>\n",
       "      <td>347.000000</td>\n",
       "      <td>347.000000</td>\n",
       "      <td>347.000000</td>\n",
       "      <td>347.000000</td>\n",
       "      <td>347.000000</td>\n",
       "    </tr>\n",
       "    <tr>\n",
       "      <th>mean</th>\n",
       "      <td>0.637928</td>\n",
       "      <td>0.658617</td>\n",
       "      <td>-7.534115</td>\n",
       "      <td>0.253107</td>\n",
       "      <td>0.261275</td>\n",
       "      <td>0.005759</td>\n",
       "      <td>0.246553</td>\n",
       "      <td>0.436864</td>\n",
       "      <td>116.508473</td>\n",
       "      <td>243227.792507</td>\n",
       "      <td>5.331412</td>\n",
       "      <td>0.530259</td>\n",
       "      <td>3.948127</td>\n",
       "    </tr>\n",
       "    <tr>\n",
       "      <th>std</th>\n",
       "      <td>0.138546</td>\n",
       "      <td>0.157838</td>\n",
       "      <td>2.555338</td>\n",
       "      <td>0.142803</td>\n",
       "      <td>0.245341</td>\n",
       "      <td>0.048830</td>\n",
       "      <td>0.175840</td>\n",
       "      <td>0.197650</td>\n",
       "      <td>31.108960</td>\n",
       "      <td>85742.903912</td>\n",
       "      <td>3.755107</td>\n",
       "      <td>0.499804</td>\n",
       "      <td>0.413173</td>\n",
       "    </tr>\n",
       "    <tr>\n",
       "      <th>min</th>\n",
       "      <td>0.300000</td>\n",
       "      <td>0.121000</td>\n",
       "      <td>-21.487000</td>\n",
       "      <td>0.031300</td>\n",
       "      <td>0.000282</td>\n",
       "      <td>0.000000</td>\n",
       "      <td>0.053700</td>\n",
       "      <td>0.042900</td>\n",
       "      <td>60.019000</td>\n",
       "      <td>36667.000000</td>\n",
       "      <td>0.000000</td>\n",
       "      <td>0.000000</td>\n",
       "      <td>1.000000</td>\n",
       "    </tr>\n",
       "    <tr>\n",
       "      <th>25%</th>\n",
       "      <td>0.534000</td>\n",
       "      <td>0.545500</td>\n",
       "      <td>-8.708500</td>\n",
       "      <td>0.135000</td>\n",
       "      <td>0.060600</td>\n",
       "      <td>0.000000</td>\n",
       "      <td>0.114500</td>\n",
       "      <td>0.296500</td>\n",
       "      <td>87.418500</td>\n",
       "      <td>208086.500000</td>\n",
       "      <td>1.000000</td>\n",
       "      <td>0.000000</td>\n",
       "      <td>4.000000</td>\n",
       "    </tr>\n",
       "    <tr>\n",
       "      <th>50%</th>\n",
       "      <td>0.634000</td>\n",
       "      <td>0.667000</td>\n",
       "      <td>-7.181000</td>\n",
       "      <td>0.250000</td>\n",
       "      <td>0.185000</td>\n",
       "      <td>0.000000</td>\n",
       "      <td>0.181000</td>\n",
       "      <td>0.427000</td>\n",
       "      <td>116.012000</td>\n",
       "      <td>235320.000000</td>\n",
       "      <td>6.000000</td>\n",
       "      <td>1.000000</td>\n",
       "      <td>4.000000</td>\n",
       "    </tr>\n",
       "    <tr>\n",
       "      <th>75%</th>\n",
       "      <td>0.739500</td>\n",
       "      <td>0.783000</td>\n",
       "      <td>-5.809500</td>\n",
       "      <td>0.346000</td>\n",
       "      <td>0.391000</td>\n",
       "      <td>0.000015</td>\n",
       "      <td>0.325000</td>\n",
       "      <td>0.585500</td>\n",
       "      <td>140.047500</td>\n",
       "      <td>277633.500000</td>\n",
       "      <td>8.000000</td>\n",
       "      <td>1.000000</td>\n",
       "      <td>4.000000</td>\n",
       "    </tr>\n",
       "    <tr>\n",
       "      <th>max</th>\n",
       "      <td>0.959000</td>\n",
       "      <td>0.949000</td>\n",
       "      <td>-2.008000</td>\n",
       "      <td>0.879000</td>\n",
       "      <td>0.936000</td>\n",
       "      <td>0.847000</td>\n",
       "      <td>0.814000</td>\n",
       "      <td>0.966000</td>\n",
       "      <td>192.157000</td>\n",
       "      <td>875307.000000</td>\n",
       "      <td>11.000000</td>\n",
       "      <td>1.000000</td>\n",
       "      <td>5.000000</td>\n",
       "    </tr>\n",
       "  </tbody>\n",
       "</table>\n",
       "</div>"
      ],
      "text/plain": [
       "       danceability      energy    loudness  speechiness  acousticness  \\\n",
       "count    347.000000  347.000000  347.000000   347.000000    347.000000   \n",
       "mean       0.637928    0.658617   -7.534115     0.253107      0.261275   \n",
       "std        0.138546    0.157838    2.555338     0.142803      0.245341   \n",
       "min        0.300000    0.121000  -21.487000     0.031300      0.000282   \n",
       "25%        0.534000    0.545500   -8.708500     0.135000      0.060600   \n",
       "50%        0.634000    0.667000   -7.181000     0.250000      0.185000   \n",
       "75%        0.739500    0.783000   -5.809500     0.346000      0.391000   \n",
       "max        0.959000    0.949000   -2.008000     0.879000      0.936000   \n",
       "\n",
       "       instrumentalness    liveness     valence       tempo    duration_ms  \\\n",
       "count        347.000000  347.000000  347.000000  347.000000     347.000000   \n",
       "mean           0.005759    0.246553    0.436864  116.508473  243227.792507   \n",
       "std            0.048830    0.175840    0.197650   31.108960   85742.903912   \n",
       "min            0.000000    0.053700    0.042900   60.019000   36667.000000   \n",
       "25%            0.000000    0.114500    0.296500   87.418500  208086.500000   \n",
       "50%            0.000000    0.181000    0.427000  116.012000  235320.000000   \n",
       "75%            0.000015    0.325000    0.585500  140.047500  277633.500000   \n",
       "max            0.847000    0.814000    0.966000  192.157000  875307.000000   \n",
       "\n",
       "              key        mode  time_signature  \n",
       "count  347.000000  347.000000      347.000000  \n",
       "mean     5.331412    0.530259        3.948127  \n",
       "std      3.755107    0.499804        0.413173  \n",
       "min      0.000000    0.000000        1.000000  \n",
       "25%      1.000000    0.000000        4.000000  \n",
       "50%      6.000000    1.000000        4.000000  \n",
       "75%      8.000000    1.000000        4.000000  \n",
       "max     11.000000    1.000000        5.000000  "
      ]
     },
     "execution_count": 5,
     "metadata": {},
     "output_type": "execute_result"
    }
   ],
   "source": [
    "#numerical stats\n",
    "af.describe()"
   ]
  },
  {
   "cell_type": "markdown",
   "metadata": {},
   "source": [
    "## Sample Errors"
   ]
  },
  {
   "cell_type": "markdown",
   "metadata": {},
   "source": [
    "Spotify lists Rap audio feature averages for instrumentalness and speechiness. It's safe to assume that these averages are based on the rap population. Let's look at the sampling error for those audio features."
   ]
  },
  {
   "cell_type": "code",
   "execution_count": null,
   "metadata": {
    "collapsed": true
   },
   "outputs": [],
   "source": []
  },
  {
   "cell_type": "markdown",
   "metadata": {},
   "source": [
    "## Dataset makeup"
   ]
  },
  {
   "cell_type": "code",
   "execution_count": 6,
   "metadata": {
    "scrolled": true
   },
   "outputs": [
    {
     "data": {
      "image/png": "[encoded data removed]",
      "text/plain": [
       "<Figure size 432x288 with 1 Axes>"
      ]
     },
     "metadata": {},
     "output_type": "display_data"
    }
   ],
   "source": [
    "#table setup\n",
    "value_counts = af['artist'].value_counts()\n",
    "artists = list(value_counts.index)\n",
    "num_tracks = value_counts.values\n",
    "y_pos = np.arange(len(artists))\n",
    "\n",
    "#plot creation & appearance\n",
    "fig, ax = plt.subplots()\n",
    "ax.barh(y_pos,num_tracks,align='center',color=cmap_c)\n",
    "ax.set_yticks(y_pos)\n",
    "ax.set_yticklabels(artists)\n",
    "ax.invert_yaxis()\n",
    "ax.set_frame_on(False)\n",
    "ax.set_title('Number of Tracks')\n",
    "\n",
    "#percent annotations\n",
    "pcts = round((value_counts / sum(value_counts)) * 100,1)\n",
    "for pos, artist in enumerate(pcts.index):\n",
    "    score = value_counts[artist] + 1\n",
    "    label = str(pcts[artist]) + '%'\n",
    "    ax.annotate(label,(score,pos))"
   ]
  },
  {
   "cell_type": "markdown",
   "metadata": {},
   "source": [
    "## Most Common Audio Features\n",
    "\n",
    "The last describe() table gives an interesting point to start from and can be summarized by these questions: What exactly about these artist is it that interest me? What is that these artist share most in common? One way of answering this from a statistical standpoint is by looking at the standard deviation. The standard deviation measures how different are values from the mean, the closer to 0 the more similar values are to the mean. By looking at the standard deviation we can see which audio features are the most common amongst all tracks. This will give us an insight into what about the music is it I'm drawn to. Let's look at the top 5 with the accompanying mean for each feature"
   ]
  },
  {
   "cell_type": "code",
   "execution_count": 7,
   "metadata": {},
   "outputs": [
    {
     "data": {
      "text/html": [
       "<div>\n",
       "<style>\n",
       "    .dataframe thead tr:only-child th {\n",
       "        text-align: right;\n",
       "    }\n",
       "\n",
       "    .dataframe thead th {\n",
       "        text-align: left;\n",
       "    }\n",
       "\n",
       "    .dataframe tbody tr th {\n",
       "        vertical-align: top;\n",
       "    }\n",
       "</style>\n",
       "<table border=\"1\" class=\"dataframe\">\n",
       "  <thead>\n",
       "    <tr style=\"text-align: right;\">\n",
       "      <th></th>\n",
       "      <th>std</th>\n",
       "      <th>mean</th>\n",
       "    </tr>\n",
       "  </thead>\n",
       "  <tbody>\n",
       "    <tr>\n",
       "      <th>instrumentalness</th>\n",
       "      <td>0.048830</td>\n",
       "      <td>0.005759</td>\n",
       "    </tr>\n",
       "    <tr>\n",
       "      <th>danceability</th>\n",
       "      <td>0.138546</td>\n",
       "      <td>0.637928</td>\n",
       "    </tr>\n",
       "    <tr>\n",
       "      <th>speechiness</th>\n",
       "      <td>0.142803</td>\n",
       "      <td>0.253107</td>\n",
       "    </tr>\n",
       "    <tr>\n",
       "      <th>energy</th>\n",
       "      <td>0.157838</td>\n",
       "      <td>0.658617</td>\n",
       "    </tr>\n",
       "    <tr>\n",
       "      <th>liveness</th>\n",
       "      <td>0.175840</td>\n",
       "      <td>0.246553</td>\n",
       "    </tr>\n",
       "    <tr>\n",
       "      <th>valence</th>\n",
       "      <td>0.197650</td>\n",
       "      <td>0.436864</td>\n",
       "    </tr>\n",
       "    <tr>\n",
       "      <th>acousticness</th>\n",
       "      <td>0.245341</td>\n",
       "      <td>0.261275</td>\n",
       "    </tr>\n",
       "    <tr>\n",
       "      <th>time_signature</th>\n",
       "      <td>0.413173</td>\n",
       "      <td>3.948127</td>\n",
       "    </tr>\n",
       "    <tr>\n",
       "      <th>mode</th>\n",
       "      <td>0.499804</td>\n",
       "      <td>0.530259</td>\n",
       "    </tr>\n",
       "    <tr>\n",
       "      <th>loudness</th>\n",
       "      <td>2.555338</td>\n",
       "      <td>-7.534115</td>\n",
       "    </tr>\n",
       "    <tr>\n",
       "      <th>key</th>\n",
       "      <td>3.755107</td>\n",
       "      <td>5.331412</td>\n",
       "    </tr>\n",
       "    <tr>\n",
       "      <th>tempo</th>\n",
       "      <td>31.108960</td>\n",
       "      <td>116.508473</td>\n",
       "    </tr>\n",
       "    <tr>\n",
       "      <th>duration_ms</th>\n",
       "      <td>85742.903912</td>\n",
       "      <td>243227.792507</td>\n",
       "    </tr>\n",
       "  </tbody>\n",
       "</table>\n",
       "</div>"
      ],
      "text/plain": [
       "                           std           mean\n",
       "instrumentalness      0.048830       0.005759\n",
       "danceability          0.138546       0.637928\n",
       "speechiness           0.142803       0.253107\n",
       "energy                0.157838       0.658617\n",
       "liveness              0.175840       0.246553\n",
       "valence               0.197650       0.436864\n",
       "acousticness          0.245341       0.261275\n",
       "time_signature        0.413173       3.948127\n",
       "mode                  0.499804       0.530259\n",
       "loudness              2.555338      -7.534115\n",
       "key                   3.755107       5.331412\n",
       "tempo                31.108960     116.508473\n",
       "duration_ms       85742.903912  243227.792507"
      ]
     },
     "execution_count": 7,
     "metadata": {},
     "output_type": "execute_result"
    }
   ],
   "source": [
    "af.describe().T.loc[:,['std','mean']].sort_values(by='std')"
   ]
  },
  {
   "cell_type": "markdown",
   "metadata": {},
   "source": [
    "Sorted by increasing Standard Deviation: \n",
    "1. Instrumentalness\n",
    "2. Danceability\n",
    "3. Speechiness\n",
    "4. Energy\n",
    "5. Liveness\n",
    "\n",
    "While standard deviation will describe which audio features are most common amongst all tracks, the mean will describe the average portrayal of that audio feature amongst all. The descriptions below will help us decipher exactly what is defined by each mean value. **Boxplots are provided below if you want to avoid the detailed analysis.**\n",
    "\n",
    "Let's remember that our dataset is only a sample and not a population. The suggested thresholds within the descriptions are most likely based on Spotify's population, which  contains tons of more data points and variability than ours.\n",
    "\n",
    "\n",
    "* **Instrumentalness** : *Predicts whether a track contains no vocals. “Ooh” and “aah” sounds are treated as instrumental in this context. Rap or spoken word tracks are clearly “vocal”. The closer the instrumentalness value is to 1.0, the greater likelihood the track contains no vocal content. Values above 0.5 are intended to represent instrumental tracks, but confidence is higher as the value approaches 1.0.*\n",
    "\n",
    "\n",
    "* **Danceability** : *Danceability describes how suitable a track is for dancing based on a combination of musical elements including tempo, rhythm stability, beat strength, and overall regularity. A value of 0.0 is least danceable and 1.0 is most danceable.*\n",
    "\n",
    "\n",
    "* **Speechiness** : *Speechiness detects the presence of spoken words in a track. The more exclusively speech-like the recording (e.g. talk show, audio book, poetry), the closer to 1.0 the attribute value. Values above 0.66 describe tracks that are probably made entirely of spoken words. Values between 0.33 and 0.66 describe tracks that may contain both music and speech, either in sections or layered, including such cases as rap music. Values below 0.33 most likely represent music and other non-speech-like tracks.*\n",
    "\n",
    "\n",
    "* **Energy** : *Energy is a measure from 0.0 to 1.0 and represents a perceptual measure of intensity and activity. Typically, energetic tracks feel fast, loud, and noisy. For example, death metal has high energy, while a Bach prelude scores low on the scale. Perceptual features contributing to this attribute include dynamic range, perceived loudness, timbre, onset rate, and general entropy.*\n",
    "\n",
    "\n",
    "* **Liveness** : *Detects the presence of an audience in the recording. Higher liveness values represent an increased probability that the track was performed live. A value above 0.8 provides strong likelihood that the track is live.*\n",
    "\n",
    "Taking into account the mean values and descriptions of each audio feature there isn't anything too suprising about the music collection as a whole. Being as the entirety of it is Hip Hop/Rap we would expect the **Intrumentalness** value (*0.006*) to be fairly low. I did find a **Danceability** score of *0.64* interesting though. Yes, Hip Hop/Rap does include influence and instruments from a variety of cultures and genres such as jazz, blues, funk, salsa, and disco many of which I would describe as highly danceable. Although I would say I did not expect such a high value from knowing these artist and their styles. Many of them are recongized as Rap's elite lyricist. **Speechiness** (*0.25*) is another interesting value because of the fact that it scored below the believed range of rap music (*0.33 - 0.66*) and instead is described as non-speech-like. A stat's course will of told us to expect the *sample standard deviation* to be below the *population standard deviation* but being as this is a very telling characteristic of the artist it'll be interesting to investigate which artist are truer to the mean. With a standard deviation of *0.14* the music isn't too varied from the mean but worth further investigating since it's not what we would expect from elite lyricist. Similarly, a relatively high **Energy** value *0.66* can be expected as intensity, feeling fast, loud, and noisy are very much characteristics of Hip Hop/Rap. Lastly, **Liveness** (*0.25*) is as expected below the 0.8 threshold since all tracks are studio recordings."
   ]
  },
  {
   "cell_type": "code",
   "execution_count": 8,
   "metadata": {},
   "outputs": [
    {
     "data": {
      "text/plain": [
       "<matplotlib.legend.Legend at 0x1a1ec80908>"
      ]
     },
     "execution_count": 8,
     "metadata": {},
     "output_type": "execute_result"
    },
    {
     "data": {
      "image/png": "[encoded data removed]",
      "text/plain": [
       "<Figure size 1440x360 with 5 Axes>"
      ]
     },
     "metadata": {},
     "output_type": "display_data"
    }
   ],
   "source": [
    "fig, (ax1,ax2,ax3,ax4,ax5) = plt.subplots(1,5,figsize=(20,5),sharey=True)\n",
    "\n",
    "#legend lines\n",
    "mean_line = Line2D([0],[0], color = 'Orange', lw=2)\n",
    "median_line = Line2D([0],[0], color = \"Green\", ls='dashed')\n",
    "\n",
    "ax1.boxplot(af['instrumentalness'],labels=[''],meanline=True,showmeans=True)\n",
    "ax1.set_xlabel('instrumentalness',fontsize='x-large')\n",
    "ax1.set_xlim(.9,1.1)\n",
    "\n",
    "ax2.boxplot(af['danceability'],labels=[''],meanline=True,showmeans=True)\n",
    "ax2.set_xlabel('danceability',fontsize='x-large')\n",
    "ax2.set_xlim(.9,1.1)\n",
    "\n",
    "ax3.boxplot(af['speechiness'],labels=[''],meanline=True,showmeans=True)\n",
    "ax3.set_xlabel('speechiness',fontsize='x-large')\n",
    "ax3.set_xlim(.9,1.1)\n",
    "\n",
    "ax4.boxplot(af['energy'],labels=[''],meanline=True,showmeans=True)\n",
    "ax4.set_xlabel('energy',fontsize='x-large')\n",
    "ax4.set_xlim(.9,1.1)\n",
    "\n",
    "ax5.boxplot(af['liveness'],labels=[''],meanline=True,showmeans=True)\n",
    "ax5.set_xlabel('liveness',fontsize='x-large')\n",
    "ax5.set_xlim(.9,1.1)\n",
    "\n",
    "plt.figlegend(handles = (mean_line,median_line),labels=['Mean', 'Median'], loc = 'upper center', ncol=2, fontsize='x-large',shadow=True)"
   ]
  },
  {
   "cell_type": "markdown",
   "metadata": {},
   "source": [
    "Although instrumentalness and liveness contain many high-value outliers, respectively, referencing the describe() table produced earlier we can guarantee that high-value outliers make up less than 25% of each respective column.  It would be interesting to view the exact percentage of outliers and the artists behind them. To do so we'll set the top whisker as our threshold value and view tracks greater than that value."
   ]
  },
  {
   "cell_type": "code",
   "execution_count": 9,
   "metadata": {
    "collapsed": true
   },
   "outputs": [],
   "source": [
    "in_top_whisker = ax3.boxplot(af['instrumentalness'],labels=[''],meanline=True,showmeans=True)['whiskers'][1].get_ydata()[1]\n",
    "live_top_whisker = ax3.boxplot(af['liveness'],labels=[''],meanline=True,showmeans=True)['whiskers'][1].get_ydata()[1]"
   ]
  },
  {
   "cell_type": "markdown",
   "metadata": {},
   "source": [
    "Interesting area but the presence and removal of outliers in instrumentalness will not affect the mean. It'll only be closer to zero"
   ]
  },
  {
   "cell_type": "markdown",
   "metadata": {},
   "source": [
    "## Instrumentalness Outliers"
   ]
  },
  {
   "cell_type": "code",
   "execution_count": 10,
   "metadata": {
    "collapsed": true
   },
   "outputs": [],
   "source": [
    "#instrumentalness outlier data\n",
    "cols = ['artist','instrumentalness']\n",
    "\n",
    "in_outliers = af.loc[af['instrumentalness'] > in_top_whisker,cols]\n",
    "in_outliers_grouped = in_outliers.groupby('artist').agg({'instrumentalness':'mean','artist':'count'})\n",
    "in_outliers_grouped.columns = ['mean','count']\n",
    "in_outliers_grouped['pct_count'] = in_outliers_grouped['count'] / sum(in_outliers_grouped['count'])\n",
    "\n",
    "in_outliers_grouped = in_outliers_grouped.sort_values('count',ascending=False)"
   ]
  },
  {
   "cell_type": "code",
   "execution_count": 13,
   "metadata": {
    "scrolled": false
   },
   "outputs": [
    {
     "data": {
      "text/plain": [
       "Text(0.5, 1.0, 'Instrumentalness Averages')"
      ]
     },
     "execution_count": 13,
     "metadata": {},
     "output_type": "execute_result"
    },
    {
     "data": {
      "image/png": "[encoded data removed]",
      "text/plain": [
       "<Figure size 864x288 with 2 Axes>"
      ]
     },
     "metadata": {},
     "output_type": "display_data"
    }
   ],
   "source": [
    "#instrumentalness outlier plot\n",
    "x_coords = np.arange(len(in_outliers_grouped.index))\n",
    "fig, (ax1,ax2) = plt.subplots(1,2,figsize=(12,4))\n",
    "\n",
    "#percentages plot\n",
    "ax1.bar(x = x_coords, height = in_outliers_grouped['pct_count'],\n",
    "        tick_label=[''], color = cmap_c\n",
    "       )\n",
    "ax1.set_ylim(0,0.4)\n",
    "ax1.set_xticklabels(in_outliers_grouped.index,rotation=12)\n",
    "ax1.set_title('Percent of Outliers',fontdict={'fontsize':'x-large'})\n",
    "\n",
    "#means plot\n",
    "ax2.bar(x = x_coords, height = in_outliers_grouped['mean'],\n",
    "        tick_label=[''], color = cmap_c\n",
    "       )\n",
    "ax2.set_ylim(0,0.15)\n",
    "ax2.set_xticklabels(in_outliers_grouped.index,rotation=12)\n",
    "ax2.set_title('Instrumentalness Averages',fontdict={'fontsize':'x-large'})"
   ]
  },
  {
   "cell_type": "code",
   "execution_count": 14,
   "metadata": {},
   "outputs": [
    {
     "name": "stdout",
     "output_type": "stream",
     "text": [
      "Percent of Total - Instrumentalness Outliers: 20.17\n"
     ]
    }
   ],
   "source": [
    "in_pct_total = sum(in_outliers_grouped['count']) / af.shape[0]\n",
    "print('Percent of Total - Instrumentalness Outliers: {}'.format(round(in_pct_total * 100,2)))"
   ]
  },
  {
   "cell_type": "markdown",
   "metadata": {},
   "source": [
    "## Liveness Outliers"
   ]
  },
  {
   "cell_type": "code",
   "execution_count": 15,
   "metadata": {
    "collapsed": true
   },
   "outputs": [],
   "source": [
    "#liveness outlier data\n",
    "cols = ['artist','liveness']\n",
    "\n",
    "live_outliers = af.loc[af['liveness'] > live_top_whisker,cols]\n",
    "live_outliers_grouped = live_outliers.groupby('artist').agg({'liveness':'mean','artist':'count'})\n",
    "live_outliers_grouped.columns = ['mean','count']\n",
    "live_outliers_grouped['pct_count'] = live_outliers_grouped['count'] / sum(live_outliers_grouped['count'])\n",
    "\n",
    "live_outliers_grouped = live_outliers_grouped.sort_values('count',ascending=False)"
   ]
  },
  {
   "cell_type": "code",
   "execution_count": 16,
   "metadata": {},
   "outputs": [
    {
     "data": {
      "text/plain": [
       "Text(0.5, 1.0, 'Liveness Averages')"
      ]
     },
     "execution_count": 16,
     "metadata": {},
     "output_type": "execute_result"
    },
    {
     "data": {
      "image/png": "[encoded data removed]",
      "text/plain": [
       "<Figure size 864x288 with 2 Axes>"
      ]
     },
     "metadata": {},
     "output_type": "display_data"
    }
   ],
   "source": [
    "#instrumentalness outlier plot\n",
    "x_coords = np.arange(len(live_outliers_grouped.index))\n",
    "fig, (ax1,ax2) = plt.subplots(1,2,figsize=(12,4))\n",
    "\n",
    "#percentages plot\n",
    "ax1.bar(x = x_coords, height = live_outliers_grouped['pct_count'],\n",
    "        tick_label=[''], color = cmap_c\n",
    "       )\n",
    "ax1.set_ylim(0,0.5)\n",
    "ax1.set_xticklabels(live_outliers_grouped.index,rotation=12)\n",
    "ax1.set_title('Percent of Outliers',fontdict={'fontsize':'x-large'})\n",
    "\n",
    "#means plot\n",
    "ax2.bar(x = x_coords, height = live_outliers_grouped['mean'],\n",
    "        tick_label=[''], color = cmap_c\n",
    "       )\n",
    "ax2.set_ylim(0,0.8)\n",
    "ax2.set_xticklabels(live_outliers_grouped.index,rotation=12)\n",
    "ax2.set_title('Liveness Averages',fontdict={'fontsize':'x-large'})"
   ]
  },
  {
   "cell_type": "code",
   "execution_count": 17,
   "metadata": {},
   "outputs": [
    {
     "name": "stdout",
     "output_type": "stream",
     "text": [
      "Percent of Total - Liveness Outliers: 5.48\n"
     ]
    }
   ],
   "source": [
    "in_pct_total = sum(live_outliers_grouped['count']) / af.shape[0]\n",
    "print('Percent of Total - Liveness Outliers: {}'.format(round(in_pct_total * 100,2)))"
   ]
  },
  {
   "cell_type": "markdown",
   "metadata": {},
   "source": [
    "## Examining Correlations"
   ]
  },
  {
   "cell_type": "code",
   "execution_count": 19,
   "metadata": {
    "scrolled": false
   },
   "outputs": [
    {
     "data": {
      "text/html": [
       "<div>\n",
       "<style>\n",
       "    .dataframe thead tr:only-child th {\n",
       "        text-align: right;\n",
       "    }\n",
       "\n",
       "    .dataframe thead th {\n",
       "        text-align: left;\n",
       "    }\n",
       "\n",
       "    .dataframe tbody tr th {\n",
       "        vertical-align: top;\n",
       "    }\n",
       "</style>\n",
       "<table border=\"1\" class=\"dataframe\">\n",
       "  <thead>\n",
       "    <tr style=\"text-align: right;\">\n",
       "      <th></th>\n",
       "      <th>danceability</th>\n",
       "      <th>energy</th>\n",
       "      <th>loudness</th>\n",
       "      <th>speechiness</th>\n",
       "      <th>acousticness</th>\n",
       "      <th>instrumentalness</th>\n",
       "      <th>liveness</th>\n",
       "      <th>valence</th>\n",
       "      <th>tempo</th>\n",
       "      <th>duration_ms</th>\n",
       "      <th>key</th>\n",
       "      <th>mode</th>\n",
       "      <th>time_signature</th>\n",
       "    </tr>\n",
       "  </thead>\n",
       "  <tbody>\n",
       "    <tr>\n",
       "      <th>danceability</th>\n",
       "      <td>1.000000</td>\n",
       "      <td>-0.178592</td>\n",
       "      <td>0.086406</td>\n",
       "      <td>-0.145153</td>\n",
       "      <td>-0.194703</td>\n",
       "      <td>-0.039427</td>\n",
       "      <td>-0.197335</td>\n",
       "      <td>0.161817</td>\n",
       "      <td>0.070150</td>\n",
       "      <td>-0.040805</td>\n",
       "      <td>-0.006798</td>\n",
       "      <td>0.062659</td>\n",
       "      <td>0.087281</td>\n",
       "    </tr>\n",
       "    <tr>\n",
       "      <th>energy</th>\n",
       "      <td>-0.178592</td>\n",
       "      <td>1.000000</td>\n",
       "      <td>0.706151</td>\n",
       "      <td>0.055261</td>\n",
       "      <td>-0.241635</td>\n",
       "      <td>-0.020053</td>\n",
       "      <td>0.126890</td>\n",
       "      <td>0.275433</td>\n",
       "      <td>0.085696</td>\n",
       "      <td>0.051251</td>\n",
       "      <td>-0.031783</td>\n",
       "      <td>-0.003644</td>\n",
       "      <td>0.065506</td>\n",
       "    </tr>\n",
       "    <tr>\n",
       "      <th>loudness</th>\n",
       "      <td>0.086406</td>\n",
       "      <td>0.706151</td>\n",
       "      <td>1.000000</td>\n",
       "      <td>-0.067014</td>\n",
       "      <td>-0.355345</td>\n",
       "      <td>-0.049253</td>\n",
       "      <td>0.025175</td>\n",
       "      <td>0.201568</td>\n",
       "      <td>0.097472</td>\n",
       "      <td>0.099533</td>\n",
       "      <td>-0.065061</td>\n",
       "      <td>0.137636</td>\n",
       "      <td>0.104375</td>\n",
       "    </tr>\n",
       "    <tr>\n",
       "      <th>speechiness</th>\n",
       "      <td>-0.145153</td>\n",
       "      <td>0.055261</td>\n",
       "      <td>-0.067014</td>\n",
       "      <td>1.000000</td>\n",
       "      <td>0.184510</td>\n",
       "      <td>-0.100467</td>\n",
       "      <td>0.125948</td>\n",
       "      <td>0.083859</td>\n",
       "      <td>0.033875</td>\n",
       "      <td>0.097642</td>\n",
       "      <td>0.075747</td>\n",
       "      <td>0.005838</td>\n",
       "      <td>0.011738</td>\n",
       "    </tr>\n",
       "    <tr>\n",
       "      <th>acousticness</th>\n",
       "      <td>-0.194703</td>\n",
       "      <td>-0.241635</td>\n",
       "      <td>-0.355345</td>\n",
       "      <td>0.184510</td>\n",
       "      <td>1.000000</td>\n",
       "      <td>0.116610</td>\n",
       "      <td>0.073896</td>\n",
       "      <td>0.023351</td>\n",
       "      <td>-0.144019</td>\n",
       "      <td>-0.108938</td>\n",
       "      <td>0.071565</td>\n",
       "      <td>-0.055071</td>\n",
       "      <td>-0.178732</td>\n",
       "    </tr>\n",
       "    <tr>\n",
       "      <th>instrumentalness</th>\n",
       "      <td>-0.039427</td>\n",
       "      <td>-0.020053</td>\n",
       "      <td>-0.049253</td>\n",
       "      <td>-0.100467</td>\n",
       "      <td>0.116610</td>\n",
       "      <td>1.000000</td>\n",
       "      <td>0.151588</td>\n",
       "      <td>0.036398</td>\n",
       "      <td>-0.017500</td>\n",
       "      <td>-0.118707</td>\n",
       "      <td>-0.043632</td>\n",
       "      <td>-0.067053</td>\n",
       "      <td>0.006727</td>\n",
       "    </tr>\n",
       "    <tr>\n",
       "      <th>liveness</th>\n",
       "      <td>-0.197335</td>\n",
       "      <td>0.126890</td>\n",
       "      <td>0.025175</td>\n",
       "      <td>0.125948</td>\n",
       "      <td>0.073896</td>\n",
       "      <td>0.151588</td>\n",
       "      <td>1.000000</td>\n",
       "      <td>0.035009</td>\n",
       "      <td>0.027148</td>\n",
       "      <td>0.031028</td>\n",
       "      <td>-0.030757</td>\n",
       "      <td>-0.008051</td>\n",
       "      <td>0.070549</td>\n",
       "    </tr>\n",
       "    <tr>\n",
       "      <th>valence</th>\n",
       "      <td>0.161817</td>\n",
       "      <td>0.275433</td>\n",
       "      <td>0.201568</td>\n",
       "      <td>0.083859</td>\n",
       "      <td>0.023351</td>\n",
       "      <td>0.036398</td>\n",
       "      <td>0.035009</td>\n",
       "      <td>1.000000</td>\n",
       "      <td>0.079476</td>\n",
       "      <td>-0.122167</td>\n",
       "      <td>0.077974</td>\n",
       "      <td>-0.040654</td>\n",
       "      <td>-0.047168</td>\n",
       "    </tr>\n",
       "    <tr>\n",
       "      <th>tempo</th>\n",
       "      <td>0.070150</td>\n",
       "      <td>0.085696</td>\n",
       "      <td>0.097472</td>\n",
       "      <td>0.033875</td>\n",
       "      <td>-0.144019</td>\n",
       "      <td>-0.017500</td>\n",
       "      <td>0.027148</td>\n",
       "      <td>0.079476</td>\n",
       "      <td>1.000000</td>\n",
       "      <td>-0.062944</td>\n",
       "      <td>-0.028834</td>\n",
       "      <td>0.016083</td>\n",
       "      <td>0.109045</td>\n",
       "    </tr>\n",
       "    <tr>\n",
       "      <th>duration_ms</th>\n",
       "      <td>-0.040805</td>\n",
       "      <td>0.051251</td>\n",
       "      <td>0.099533</td>\n",
       "      <td>0.097642</td>\n",
       "      <td>-0.108938</td>\n",
       "      <td>-0.118707</td>\n",
       "      <td>0.031028</td>\n",
       "      <td>-0.122167</td>\n",
       "      <td>-0.062944</td>\n",
       "      <td>1.000000</td>\n",
       "      <td>0.029012</td>\n",
       "      <td>0.021190</td>\n",
       "      <td>0.161894</td>\n",
       "    </tr>\n",
       "    <tr>\n",
       "      <th>key</th>\n",
       "      <td>-0.006798</td>\n",
       "      <td>-0.031783</td>\n",
       "      <td>-0.065061</td>\n",
       "      <td>0.075747</td>\n",
       "      <td>0.071565</td>\n",
       "      <td>-0.043632</td>\n",
       "      <td>-0.030757</td>\n",
       "      <td>0.077974</td>\n",
       "      <td>-0.028834</td>\n",
       "      <td>0.029012</td>\n",
       "      <td>1.000000</td>\n",
       "      <td>-0.329514</td>\n",
       "      <td>-0.007516</td>\n",
       "    </tr>\n",
       "    <tr>\n",
       "      <th>mode</th>\n",
       "      <td>0.062659</td>\n",
       "      <td>-0.003644</td>\n",
       "      <td>0.137636</td>\n",
       "      <td>0.005838</td>\n",
       "      <td>-0.055071</td>\n",
       "      <td>-0.067053</td>\n",
       "      <td>-0.008051</td>\n",
       "      <td>-0.040654</td>\n",
       "      <td>0.016083</td>\n",
       "      <td>0.021190</td>\n",
       "      <td>-0.329514</td>\n",
       "      <td>1.000000</td>\n",
       "      <td>0.007623</td>\n",
       "    </tr>\n",
       "    <tr>\n",
       "      <th>time_signature</th>\n",
       "      <td>0.087281</td>\n",
       "      <td>0.065506</td>\n",
       "      <td>0.104375</td>\n",
       "      <td>0.011738</td>\n",
       "      <td>-0.178732</td>\n",
       "      <td>0.006727</td>\n",
       "      <td>0.070549</td>\n",
       "      <td>-0.047168</td>\n",
       "      <td>0.109045</td>\n",
       "      <td>0.161894</td>\n",
       "      <td>-0.007516</td>\n",
       "      <td>0.007623</td>\n",
       "      <td>1.000000</td>\n",
       "    </tr>\n",
       "  </tbody>\n",
       "</table>\n",
       "</div>"
      ],
      "text/plain": [
       "                  danceability    energy  loudness  speechiness  acousticness  \\\n",
       "danceability          1.000000 -0.178592  0.086406    -0.145153     -0.194703   \n",
       "energy               -0.178592  1.000000  0.706151     0.055261     -0.241635   \n",
       "loudness              0.086406  0.706151  1.000000    -0.067014     -0.355345   \n",
       "speechiness          -0.145153  0.055261 -0.067014     1.000000      0.184510   \n",
       "acousticness         -0.194703 -0.241635 -0.355345     0.184510      1.000000   \n",
       "instrumentalness     -0.039427 -0.020053 -0.049253    -0.100467      0.116610   \n",
       "liveness             -0.197335  0.126890  0.025175     0.125948      0.073896   \n",
       "valence               0.161817  0.275433  0.201568     0.083859      0.023351   \n",
       "tempo                 0.070150  0.085696  0.097472     0.033875     -0.144019   \n",
       "duration_ms          -0.040805  0.051251  0.099533     0.097642     -0.108938   \n",
       "key                  -0.006798 -0.031783 -0.065061     0.075747      0.071565   \n",
       "mode                  0.062659 -0.003644  0.137636     0.005838     -0.055071   \n",
       "time_signature        0.087281  0.065506  0.104375     0.011738     -0.178732   \n",
       "\n",
       "                  instrumentalness  liveness   valence     tempo  duration_ms  \\\n",
       "danceability             -0.039427 -0.197335  0.161817  0.070150    -0.040805   \n",
       "energy                   -0.020053  0.126890  0.275433  0.085696     0.051251   \n",
       "loudness                 -0.049253  0.025175  0.201568  0.097472     0.099533   \n",
       "speechiness              -0.100467  0.125948  0.083859  0.033875     0.097642   \n",
       "acousticness              0.116610  0.073896  0.023351 -0.144019    -0.108938   \n",
       "instrumentalness          1.000000  0.151588  0.036398 -0.017500    -0.118707   \n",
       "liveness                  0.151588  1.000000  0.035009  0.027148     0.031028   \n",
       "valence                   0.036398  0.035009  1.000000  0.079476    -0.122167   \n",
       "tempo                    -0.017500  0.027148  0.079476  1.000000    -0.062944   \n",
       "duration_ms              -0.118707  0.031028 -0.122167 -0.062944     1.000000   \n",
       "key                      -0.043632 -0.030757  0.077974 -0.028834     0.029012   \n",
       "mode                     -0.067053 -0.008051 -0.040654  0.016083     0.021190   \n",
       "time_signature            0.006727  0.070549 -0.047168  0.109045     0.161894   \n",
       "\n",
       "                       key      mode  time_signature  \n",
       "danceability     -0.006798  0.062659        0.087281  \n",
       "energy           -0.031783 -0.003644        0.065506  \n",
       "loudness         -0.065061  0.137636        0.104375  \n",
       "speechiness       0.075747  0.005838        0.011738  \n",
       "acousticness      0.071565 -0.055071       -0.178732  \n",
       "instrumentalness -0.043632 -0.067053        0.006727  \n",
       "liveness         -0.030757 -0.008051        0.070549  \n",
       "valence           0.077974 -0.040654       -0.047168  \n",
       "tempo            -0.028834  0.016083        0.109045  \n",
       "duration_ms       0.029012  0.021190        0.161894  \n",
       "key               1.000000 -0.329514       -0.007516  \n",
       "mode             -0.329514  1.000000        0.007623  \n",
       "time_signature   -0.007516  0.007623        1.000000  "
      ]
     },
     "execution_count": 19,
     "metadata": {},
     "output_type": "execute_result"
    }
   ],
   "source": [
    "af.corr()"
   ]
  },
  {
   "cell_type": "code",
   "execution_count": 28,
   "metadata": {},
   "outputs": [
    {
     "data": {
      "image/png": "[encoded data removed]",
      "text/plain": [
       "<Figure size 288x288 with 1 Axes>"
      ]
     },
     "metadata": {},
     "output_type": "display_data"
    }
   ],
   "source": [
    "af_numerics = af.iloc[:,3:]\n",
    "plt.matshow(af_numerics.corr())\n",
    "plt.xticks(np.arange(af_numerics.shape[1]))\n",
    "plt.yticks(np.arange(af_numerics.shape[1]),list(af_numerics.columns))\n",
    "plt.show()"
   ]
  },
  {
   "cell_type": "code",
   "execution_count": null,
   "metadata": {
    "collapsed": true
   },
   "outputs": [],
   "source": [
    "def contains_feature(track):\n",
    "    if 'feat' in track:\n",
    "        return True\n",
    "    return False\n",
    "\n",
    "features = collection['track'].apply(contains_feature)"
   ]
  },
  {
   "cell_type": "markdown",
   "metadata": {},
   "source": [
    "## Danceability"
   ]
  },
  {
   "cell_type": "code",
   "execution_count": null,
   "metadata": {
    "collapsed": true
   },
   "outputs": [],
   "source": [
    "cols = ['danceability','energy','speechiness','acousticness']\n",
    "fig, ax = plt.subplots()\n",
    "\n",
    "ax.boxplot(collection[cols].values)\n",
    "ax.set_title('Danceability')\n",
    "ax.set_xticklabels(cols)\n",
    "\n",
    "\n",
    "plt.show()"
   ]
  },
  {
   "cell_type": "code",
   "execution_count": null,
   "metadata": {
    "collapsed": true
   },
   "outputs": [],
   "source": [
    "collection[cols].values"
   ]
  }
 ],
 "metadata": {
  "kernelspec": {
   "display_name": "Python 3",
   "language": "python",
   "name": "python3"
  },
  "language_info": {
   "codemirror_mode": {
    "name": "ipython",
    "version": 3
   },
   "file_extension": ".py",
   "mimetype": "text/x-python",
   "name": "python",
   "nbconvert_exporter": "python",
   "pygments_lexer": "ipython3",
   "version": "3.6.8"
  }
 },
 "nbformat": 4,
 "nbformat_minor": 2
}
