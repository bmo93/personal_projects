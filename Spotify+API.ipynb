{
 "cells": [
  {
   "cell_type": "markdown",
   "metadata": {},
   "source": [
    "# A Python Guide to Spotify's API\n",
    "\n",
    "I recently accessed my first API and wanted to share my process to help others. This notebook is intended to be a **quick beginners guide** to extracting data from Spotify's API using Python. It assumes a basic understanding of Python, a Spotify Account and Developer Account, and nothing of APIs or authentication. Most technical details are skipped to get you exploring sooner. Nonetheless, **questions are welcomed**.\n",
    "\n",
    "If your like me, you registered your app on Spotify, recieved your *client id* and *client secret*, and took a look into the provided authorization guide but to no avail. *Sigh* right?. No worries, I'll show you how to **gain authentication** and **navigate the api** so that you can explore your own interest later.\n",
    "\n",
    "We'll be using the ***client credentials flow*** to retreive the *audio features* of all listed albums from some of my favorite rappers: Big Sean, Isaiah Rashad, J. Cole, Kendrick Lamar, and Schoolboy Q. We'll then place the data into data frames for exploratory data analysis. To achieve this we'll need to complete several intermediate steps outlined here, accompanying documentation just for reference:\n",
    "\n",
    "1. [Client Credentials Flow setup](https://developer.spotify.com/documentation/general/guides/authorization-guide/#client-credentials-flow) (scroll down ~80% of the doc page)\n",
    "2. [Search for artist and retrieve artist ids](https://developer.spotify.com/documentation/web-api/reference/search/search/)\n",
    "3. [Retrieve an Artist's albums and their ids](https://developer.spotify.com/documentation/web-api/reference/artists/get-artists-albums/)\n",
    "4. [Retrieve an Album's tracks ids](https://developer.spotify.com/documentation/web-api/reference/albums/get-albums-tracks/)\n",
    "5. [Retrieve audio features for each track](https://developer.spotify.com/documentation/web-api/reference/tracks/get-several-audio-features/)\n",
    "6. Merge all DataFrames\n",
    "\n",
    "Each id is a Spotify *unique identifier* for the specific item. Also, along the way we'll create sub-DataFrames that will hold key information for our final DataFrame."
   ]
  },
  {
   "cell_type": "markdown",
   "metadata": {},
   "source": [
    "## 1. Client Credentials Flow setup\n",
    "\n",
    "The Client Credentials Flow allows us to access non-user related information from Spotify's API. Since we'll only be working with Artist, their ablums, and their tracks this is the perfect flow. To setup we'll need our client id and client secret and 3 Python libraries installed: [oauthlib](https://oauthlib.readthedocs.io/en/v3.0.1/), [requests](http://www.python-requests.org/en/latest/), and [authlib](https://docs.authlib.org/en/latest/). \n",
    "\n",
    "The first code input shows me reading in my credentials from an external file only because im sharing online. If you don't plan on sharing online then you can just assign your id and secret to each variable. "
   ]
  },
  {
   "cell_type": "code",
   "execution_count": 1,
   "metadata": {
    "collapsed": true
   },
   "outputs": [],
   "source": [
    "#reading in credentials\n",
    "import csv\n",
    "\n",
    "client_id = ''\n",
    "client_secret = ''\n",
    "with open('credentials.txt',newline='\\n') as f:\n",
    "    reader = csv.reader(f)\n",
    "    data = list(reader)\n",
    "    client_id = data[0][0]\n",
    "    client_secret = data[1][0]"
   ]
  },
  {
   "cell_type": "markdown",
   "metadata": {},
   "source": [
    "This second code input is about setting up a secure line of communication between your computer and Spotify's API. Here we are looking to gain authentication from the API in the form of an *access token*. The *access token* allows us to make calls to the API later without having to repeat authentication each time.  "
   ]
  },
  {
   "cell_type": "code",
   "execution_count": 2,
   "metadata": {
    "collapsed": true
   },
   "outputs": [],
   "source": [
    "#retreving access token\n",
    "from oauthlib.oauth2 import BackendApplicationClient\n",
    "from requests.auth import HTTPBasicAuth\n",
    "from authlib.client import OAuth2Session\n",
    "\n",
    "auth = HTTPBasicAuth(client_id, client_secret)\n",
    "client = BackendApplicationClient(client_id=client_id)\n",
    "oauth = OAuth2Session(client=client)\n",
    "token = oauth.fetch_token(url='https://accounts.spotify.com/api/token', auth=auth)\n",
    "\n",
    "#print(token)\n",
    "# if sucessful you should see a json object with your access token, token type, expiration duration, scope, \n",
    "# and expiration time"
   ]
  },
  {
   "cell_type": "markdown",
   "metadata": {},
   "source": [
    "Just like that the hardest part is done! Here we save our access_token and headers that will need to be passed with each call. The header is another step of security required by Spotify."
   ]
  },
  {
   "cell_type": "code",
   "execution_count": 3,
   "metadata": {
    "collapsed": true
   },
   "outputs": [],
   "source": [
    "access_token = token['access_token']\n",
    "headers = {'Authorization': 'Bearer ' + access_token}"
   ]
  },
  {
   "cell_type": "markdown",
   "metadata": {},
   "source": [
    "## 2. Search for artist and retrieve artist ids\n",
    "\n",
    "We begin with retrieving artist ids first because artist names are typically unique as opposed to album names. To retrieve artist ids we will need to use the *search endpoint* and provide the required query parameters of a **query term**, artist name, and the **query term type**, artist. This call will return an [artist object](https://developer.spotify.com/documentation/web-api/reference/object-model/#artist-object-simplified) that contains the artist id. The accessing of a json object, lines 15-16, is very similar to the indexing of a Python dictionary.  We'll pair the artist name and id in a python dictionary."
   ]
  },
  {
   "cell_type": "code",
   "execution_count": 4,
   "metadata": {
    "collapsed": true
   },
   "outputs": [],
   "source": [
    "import requests\n",
    "import json\n",
    "\n",
    "search = ['big sean', 'isaiah rashad','kendrick lamar','j. cole', 'schoolboy q']\n",
    "\n",
    "artist_ids = {}\n",
    "for artist in search:\n",
    "    params = {'q': artist, 'type': 'artist'}\n",
    "    response = requests.get('https://api.spotify.com/v1/search', headers=headers, params=params)\n",
    "    \n",
    "    status = response.status_code\n",
    "    if status == 200:\n",
    "        json = response.json()\n",
    "        # for consistency, let's update our spelling of artist names with the api's\n",
    "        artist_name = json['artists']['items'][0]['name'].lower()\n",
    "        artist_id = json['artists']['items'][0]['id']\n",
    "        artist_ids[artist_id] = artist_name\n",
    "    else:\n",
    "        print('Search failed for', artist)"
   ]
  },
  {
   "cell_type": "code",
   "execution_count": 5,
   "metadata": {},
   "outputs": [
    {
     "name": "stdout",
     "output_type": "stream",
     "text": [
      "{'0c173mlxpT3dSFRgMO8XPh': 'big sean', '6aaMZ3fcfLv4tEbmY7bjRM': 'isaiah rashad', '2YZyLoL8N0Wb9xBt1NhZWg': 'kendrick lamar', '6l3HvQ5sa6mXTsMTB19rO5': 'j. cole', '5IcR3N7QB1j6KBL8eImZ8m': 'schoolboy q'}\n"
     ]
    }
   ],
   "source": [
    "print(artist_ids)"
   ]
  },
  {
   "cell_type": "markdown",
   "metadata": {},
   "source": [
    "## 3. Retrieve an Artist's albums and their ids\n",
    "\n",
    "Retrieving the albums of each artist can be done two ways:\n",
    "\n",
    "1. Utilizing the method we just used previously but this time specifying the album name and type: album. Although this would require us to filter through the results to ensure that we have the correct album from the correct artist. This would be a little bit more time consuming since several artist can reuse an album name.\n",
    "    \n",
    "2. Our other option is to utilize the **artist id** we obtained and use that to identify albums specific to that artist only.\n",
    "    \n",
    "We'll be using the second method, which utilizes the [Artist's albums endpoint](https://developer.spotify.com/documentation/web-api/reference/artists/get-artists-albums/), as it has one less check than the first. Unlike the previous endpoint, this one requires a **path parameter** which in this case is the artist id we retrieved and will limit our search of albums to the specified artist. Similarly, this endpoint doesn't require any parameters instead we can provide optional parameters that will help filter our results. We provide in **include_groups** to filter our search to entire albums by the artist, and **country** to limit albums released only in the US. \n",
    "\n",
    "On return this endpoint sends back a list of [album objects (simplified)](https://developer.spotify.com/documentation/web-api/reference/object-model/#album-object-simplified) which we can access to retrieve the album id, album name, and artist name. We place this information into a python dictionary assigning the album id as the key and the album name and artist in a tuple as the value. "
   ]
  },
  {
   "cell_type": "code",
   "execution_count": 6,
   "metadata": {
    "collapsed": true
   },
   "outputs": [],
   "source": [
    "album_ids = {}\n",
    "\n",
    "for artist_id in artist_ids:\n",
    "    params = {'include_groups': 'album', 'country': 'US'}\n",
    "    response = requests.get('https://api.spotify.com/v1/artists/{}/albums'.format(artist_id),\n",
    "                            headers=headers, params=params\n",
    "                           )\n",
    "    albums_list = []\n",
    "    status = response.status_code\n",
    "    if status == 200:\n",
    "        json = response.json()\n",
    "        for album_object in json['items']:\n",
    "            # the API returns separate album objects for different licensing providers,\n",
    "            # clean version, and explicit version of the album, we just want one.\n",
    "            if album_object['name'] not in albums_list:\n",
    "                albums_list.append(album_object['name'])\n",
    "                # for consistency, update our spelling of album names with the api's\n",
    "                album_ids[album_object['id']] = (album_object['name'],album_object['artists'][0]['name'])\n",
    "    else:\n",
    "        print('Search failed for artist id:', artist_id)"
   ]
  },
  {
   "cell_type": "code",
   "execution_count": 7,
   "metadata": {},
   "outputs": [
    {
     "name": "stdout",
     "output_type": "stream",
     "text": [
      "{'0llyIxX3nDC3hobbGibVZl': ('Double Or Nothing (& Metro Boomin)', 'Big Sean'), '0XAIjjN5qxViVS0Y5fYkar': ('I Decided.', 'Big Sean'), '4Nlbt2EuXedr6UqaeXEI4c': ('Dark Sky Paradise (Deluxe)', 'Big Sean'), '1j2x7FJXTgUT0X5hZ8TDXE': ('Dark Sky Paradise', 'Big Sean'), '5RlT8X7XGGLKUhoimrDl54': ('Hall Of Fame (Deluxe)', 'Big Sean'), '5k2URimhkeCTt0m7xm5mjz': ('Hall Of Fame', 'Big Sean'), '19DGkH750PrQMMnKqBAxfY': ('Finally Famous (Deluxe)', 'Big Sean'), '2fRLnox9PQ9nos2YYdcYwE': ('Finally Famous', 'Big Sean'), '6jjX8mGrsWtrpYpFhGMrg1': (\"The Sun's Tirade\", 'Isaiah Rashad'), '6JF49ixyHmOgS0Rsda2k42': ('Cilvia Demo', 'Isaiah Rashad'), '3pLdWdkj83EYfDN6H2N8MR': ('Black Panther The Album Music From And Inspired By', 'Kendrick Lamar'), '4alcGHjstaALJHHiljfy3H': ('DAMN. COLLECTORS EDITION.', 'Kendrick Lamar'), '4eLPsYPBmXABThSJ821sqY': ('DAMN.', 'Kendrick Lamar'), '0kL3TYRsSXnu0iJvFO3rud': ('untitled unmastered.', 'Kendrick Lamar'), '7ycBtnsMtyVbbwTfJwRjSP': ('To Pimp A Butterfly', 'Kendrick Lamar'), '1DqhWr73Fh5yoNzKLas0G3': ('good kid, m.A.A.d city (Deluxe)', 'Kendrick Lamar'), '6PBZN8cbwkqm1ERj2BGXJ1': ('good kid, m.A.A.d city', 'Kendrick Lamar'), '13WjgUEEAQp0d9JqojlWp1': ('Section.80', 'Kendrick Lamar'), '7MoLQ8vckhwBbQqEYQTYQC': ('Overly Dedicated', 'Kendrick Lamar'), '4Wv5UAieM1LDEYVq5WmqDd': ('KOD', 'J. Cole'), '3CCnGldVQ90c26aFATC1PW': ('4 Your Eyez Only', 'J. Cole'), '1yZC8xZwv4gsmCZ4p4JWdI': ('Forest Hills Drive: Live from Fayetteville, NC', 'J. Cole'), '7viNUmZZ8ztn2UB4XB3jIL': ('2014 Forest Hills Drive', 'J. Cole'), '1NfrmcXk8xNennyxQ57JcW': ('Born Sinner', 'J. Cole'), '0fhmJYVhW0e4i33pCLPA5i': ('Cole World: The Sideline Story', 'J. Cole'), '0YbpATCIng8Fz2JrfHmEf7': ('Blank Face LP', 'ScHoolboy Q'), '7Et3bSTLLqdABO1qCxUplS': ('Oxymoron (Deluxe)', 'ScHoolboy Q'), '3WrybrSHu1vSZaQegAZTyn': ('Oxymoron', 'ScHoolboy Q'), '6Xz8eKy8TeAyzwGr8QSOAS': ('Habits & Contradictions', 'ScHoolboy Q'), '5QGtxFOTTr0Z4TyUQNVOKO': ('Setbacks', 'ScHoolboy Q')} \n",
      "->size: 30\n"
     ]
    }
   ],
   "source": [
    "print(album_ids,'\\n->size: {}'.format(len(album_ids)))"
   ]
  },
  {
   "cell_type": "markdown",
   "metadata": {},
   "source": [
    "As you may observed we didn't prevent all versions of albums as we also picked up deluxe, live, and collectors versions of albums. Typically deluxe versions hold bonus tracks, the more tracks the better, so we'll keep those and remove the other duplicates from our dictionary here."
   ]
  },
  {
   "cell_type": "code",
   "execution_count": 8,
   "metadata": {
    "collapsed": true
   },
   "outputs": [],
   "source": [
    "album_deletions = ['Dark Sky Paradise', 'Hall Of Fame', 'Finally Famous', \n",
    "                   'DAMN. COLLECTORS EDITION.', 'good kid, m.A.A.d city', \n",
    "                   'Forest Hills Drive: Live from Fayetteville, NC', 'Oxymoron'\n",
    "                  ]\n",
    "key_deletions = []\n",
    "# to ensure we don't make more checks then required\n",
    "count = 0\n",
    "for key,value in album_ids.items():\n",
    "    if value[0] in album_deletions:\n",
    "        key_deletions.append(key)\n",
    "        count += 1\n",
    "    if count == len(album_deletions):\n",
    "        break\n",
    "\n",
    "for key in key_deletions:\n",
    "    del album_ids[key]"
   ]
  },
  {
   "cell_type": "code",
   "execution_count": 9,
   "metadata": {},
   "outputs": [
    {
     "name": "stdout",
     "output_type": "stream",
     "text": [
      "dict_values([('Double Or Nothing (& Metro Boomin)', 'Big Sean'), ('I Decided.', 'Big Sean'), ('Dark Sky Paradise (Deluxe)', 'Big Sean'), ('Hall Of Fame (Deluxe)', 'Big Sean'), ('Finally Famous (Deluxe)', 'Big Sean'), (\"The Sun's Tirade\", 'Isaiah Rashad'), ('Cilvia Demo', 'Isaiah Rashad'), ('Black Panther The Album Music From And Inspired By', 'Kendrick Lamar'), ('DAMN.', 'Kendrick Lamar'), ('untitled unmastered.', 'Kendrick Lamar'), ('To Pimp A Butterfly', 'Kendrick Lamar'), ('good kid, m.A.A.d city (Deluxe)', 'Kendrick Lamar'), ('Section.80', 'Kendrick Lamar'), ('Overly Dedicated', 'Kendrick Lamar'), ('KOD', 'J. Cole'), ('4 Your Eyez Only', 'J. Cole'), ('2014 Forest Hills Drive', 'J. Cole'), ('Born Sinner', 'J. Cole'), ('Cole World: The Sideline Story', 'J. Cole'), ('Blank Face LP', 'ScHoolboy Q'), ('Oxymoron (Deluxe)', 'ScHoolboy Q'), ('Habits & Contradictions', 'ScHoolboy Q'), ('Setbacks', 'ScHoolboy Q')]) \n",
      "->album_ids size: 23\n"
     ]
    }
   ],
   "source": [
    "print(album_ids.values(),'\\n->album_ids size: {}'.format(len(album_ids)))"
   ]
  },
  {
   "cell_type": "markdown",
   "metadata": {},
   "source": [
    "## Album DataFrame"
   ]
  },
  {
   "cell_type": "code",
   "execution_count": 10,
   "metadata": {},
   "outputs": [
    {
     "name": "stdout",
     "output_type": "stream",
     "text": [
      "                                                                    album  \\\n",
      "0llyIxX3nDC3hobbGibVZl                 Double Or Nothing (& Metro Boomin)   \n",
      "0XAIjjN5qxViVS0Y5fYkar                                         I Decided.   \n",
      "4Nlbt2EuXedr6UqaeXEI4c                         Dark Sky Paradise (Deluxe)   \n",
      "5RlT8X7XGGLKUhoimrDl54                              Hall Of Fame (Deluxe)   \n",
      "19DGkH750PrQMMnKqBAxfY                            Finally Famous (Deluxe)   \n",
      "6jjX8mGrsWtrpYpFhGMrg1                                   The Sun's Tirade   \n",
      "6JF49ixyHmOgS0Rsda2k42                                        Cilvia Demo   \n",
      "3pLdWdkj83EYfDN6H2N8MR  Black Panther The Album Music From And Inspire...   \n",
      "4eLPsYPBmXABThSJ821sqY                                              DAMN.   \n",
      "0kL3TYRsSXnu0iJvFO3rud                               untitled unmastered.   \n",
      "\n",
      "                                artist  \n",
      "0llyIxX3nDC3hobbGibVZl        Big Sean  \n",
      "0XAIjjN5qxViVS0Y5fYkar        Big Sean  \n",
      "4Nlbt2EuXedr6UqaeXEI4c        Big Sean  \n",
      "5RlT8X7XGGLKUhoimrDl54        Big Sean  \n",
      "19DGkH750PrQMMnKqBAxfY        Big Sean  \n",
      "6jjX8mGrsWtrpYpFhGMrg1   Isaiah Rashad  \n",
      "6JF49ixyHmOgS0Rsda2k42   Isaiah Rashad  \n",
      "3pLdWdkj83EYfDN6H2N8MR  Kendrick Lamar  \n",
      "4eLPsYPBmXABThSJ821sqY  Kendrick Lamar  \n",
      "0kL3TYRsSXnu0iJvFO3rud  Kendrick Lamar  \n"
     ]
    }
   ],
   "source": [
    "import pandas as pd\n",
    "\n",
    "columns= ['album','artist']\n",
    "album_df = pd.DataFrame.from_dict(album_ids,orient='index')\n",
    "album_df.columns = columns\n",
    "print(album_df.head(10))"
   ]
  },
  {
   "cell_type": "markdown",
   "metadata": {},
   "source": [
    "## 4. Retrieve an Album's tracks ids\n",
    "\n",
    "Having obtained album ids we can now move forward to obtain track ids for each track on the album. Luckily Spotify provides an endpoint to retrieve all the [tracks of an album](https://developer.spotify.com/documentation/web-api/reference/albums/get-albums-tracks/) instead of one by one. Similar to the previous step, we need to provide a **path parameter**, the album id. No required parameters again but the optional parameter we'll provide, **market**: US, limits our search to tracks released in the US album release. For albums with more than 20 tracks, you'll want to include the **limit** optional parameter to grab a max of 50. To keep things organized we'll collect all the track names with their track id in a tuple, all track tuples in a list, and the list in a dictionary with the respective album name."
   ]
  },
  {
   "cell_type": "code",
   "execution_count": 11,
   "metadata": {
    "collapsed": true
   },
   "outputs": [],
   "source": [
    "tracks = {}\n",
    "for album_id in album_ids:\n",
    "    params = {'market': 'US'}\n",
    "    response = requests.get('https://api.spotify.com/v1/albums/{}/tracks'.format(album_id), \n",
    "                            headers=headers, params=params\n",
    "                           )\n",
    "    status = response.status_code\n",
    "    if status == 200:\n",
    "        json = response.json()\n",
    "        for track_object in json['items']:\n",
    "            tracks[track_object['id']] = (track_object['name'],album_id)\n",
    "    else:\n",
    "        print(response.content)"
   ]
  },
  {
   "cell_type": "code",
   "execution_count": 12,
   "metadata": {},
   "outputs": [
    {
     "name": "stdout",
     "output_type": "stream",
     "text": [
      "('Go Legend (& Metro Boomin)', '0llyIxX3nDC3hobbGibVZl')\n"
     ]
    }
   ],
   "source": [
    "# showing a sample of one track\n",
    "print(tracks[list(tracks)[0]])"
   ]
  },
  {
   "cell_type": "markdown",
   "metadata": {},
   "source": [
    "## Track DataFrame"
   ]
  },
  {
   "cell_type": "code",
   "execution_count": 13,
   "metadata": {},
   "outputs": [
    {
     "name": "stdout",
     "output_type": "stream",
     "text": [
      "                                                     track  \\\n",
      "3wAI7MIQtTgwcRmwchPZBc          Go Legend (& Metro Boomin)   \n",
      "42XnD59SFcomCJu55EPhqJ        Big Bidness (& Metro Boomin)   \n",
      "7dHui7yOhsoj7HdWSuJTW7  Who's Stopping Me (& Metro Boomin)   \n",
      "7DuvVy7JfFgXwWlVzyyPys    Pull Up N Wreck (& Metro Boomin)   \n",
      "0fWBFDRTIuk8ZgNdZqhCer            So Good (& Metro Boomin)   \n",
      "\n",
      "                                      album_id  \n",
      "3wAI7MIQtTgwcRmwchPZBc  0llyIxX3nDC3hobbGibVZl  \n",
      "42XnD59SFcomCJu55EPhqJ  0llyIxX3nDC3hobbGibVZl  \n",
      "7dHui7yOhsoj7HdWSuJTW7  0llyIxX3nDC3hobbGibVZl  \n",
      "7DuvVy7JfFgXwWlVzyyPys  0llyIxX3nDC3hobbGibVZl  \n",
      "0fWBFDRTIuk8ZgNdZqhCer  0llyIxX3nDC3hobbGibVZl  \n"
     ]
    }
   ],
   "source": [
    "columns = ['track','album_id']\n",
    "track_df = pd.DataFrame.from_dict(tracks,orient='index')\n",
    "track_df.columns = columns\n",
    "print(track_df.head())"
   ]
  },
  {
   "cell_type": "markdown",
   "metadata": {},
   "source": [
    "## 5. Retreive audio features for each track\n",
    "\n",
    "With track ids in hand, our final extraction is the audio features for each track. We could extract audio for each track individually but Spotify allows for us to pass multiple track ids, **max of 100**, and recieve audio features for each in one response (more on this in a bit). To do so, a single string is to be passed with each id separated by a comma. Of course we'll be taking advantage of this. On return we recieve a list of dictionaries that contains the audio features with other information about the track. For this extraction we'll store all track audio features together in a dictionary.\n",
    "\n",
    "Since we are looking to recieve audio features for 333 tracks we'll have to split our request into 4 parts. We do so by creating a function *partition_dict* that as the name suggests, partitions the dictionary into increments allowed by the API."
   ]
  },
  {
   "cell_type": "code",
   "execution_count": 14,
   "metadata": {
    "collapsed": true
   },
   "outputs": [],
   "source": [
    "import math\n",
    "def partition_dict(my_dict,increments):\n",
    "    my_list = list(my_dict.keys())\n",
    "    size = len(my_list)\n",
    "    parts = math.ceil(size/increments)    \n",
    "    \n",
    "    partitions = []\n",
    "    for i in range(0,parts):\n",
    "        partitions.append(my_list[i*increments:(100+(i*increments))])\n",
    "\n",
    "    return partitions"
   ]
  },
  {
   "cell_type": "code",
   "execution_count": 15,
   "metadata": {
    "collapsed": true,
    "scrolled": true
   },
   "outputs": [],
   "source": [
    "track_features = {}\n",
    "for part in partition_dict(tracks,100):\n",
    "    ids = ''\n",
    "    for track_id in part:\n",
    "        #placing all ids into a single string\n",
    "        ids += track_id + ','\n",
    "    #remove last comma\n",
    "    params = {'ids': ids[:-1]}\n",
    "    response = requests.get('https://api.spotify.com/v1/audio-features',\n",
    "                           headers=headers, params=params\n",
    "                           )\n",
    "    status = response.status_code\n",
    "    if status == 200:\n",
    "        json = response.json()\n",
    "        audio_features = json['audio_features']\n",
    "        for track_object in audio_features:\n",
    "            track_features[track_object['id']] = track_object\n",
    "    else:\n",
    "        print(response.content)"
   ]
  },
  {
   "cell_type": "code",
   "execution_count": 16,
   "metadata": {
    "scrolled": true
   },
   "outputs": [
    {
     "name": "stdout",
     "output_type": "stream",
     "text": [
      "333\n"
     ]
    }
   ],
   "source": [
    "#333 audio features?\n",
    "print(len(track_features))"
   ]
  },
  {
   "cell_type": "markdown",
   "metadata": {},
   "source": [
    "## Audio Features DataFrame"
   ]
  },
  {
   "cell_type": "code",
   "execution_count": 17,
   "metadata": {},
   "outputs": [
    {
     "data": {
      "text/html": [
       "<div>\n",
       "<style>\n",
       "    .dataframe thead tr:only-child th {\n",
       "        text-align: right;\n",
       "    }\n",
       "\n",
       "    .dataframe thead th {\n",
       "        text-align: left;\n",
       "    }\n",
       "\n",
       "    .dataframe tbody tr th {\n",
       "        vertical-align: top;\n",
       "    }\n",
       "</style>\n",
       "<table border=\"1\" class=\"dataframe\">\n",
       "  <thead>\n",
       "    <tr style=\"text-align: right;\">\n",
       "      <th></th>\n",
       "      <th>danceability</th>\n",
       "      <th>energy</th>\n",
       "      <th>key</th>\n",
       "      <th>loudness</th>\n",
       "      <th>mode</th>\n",
       "      <th>speechiness</th>\n",
       "      <th>acousticness</th>\n",
       "      <th>instrumentalness</th>\n",
       "      <th>liveness</th>\n",
       "      <th>valence</th>\n",
       "      <th>tempo</th>\n",
       "      <th>duration_ms</th>\n",
       "      <th>time_signature</th>\n",
       "    </tr>\n",
       "  </thead>\n",
       "  <tbody>\n",
       "    <tr>\n",
       "      <th>00ogmsZiK6dB0QVUDBeehZ</th>\n",
       "      <td>0.361</td>\n",
       "      <td>0.793</td>\n",
       "      <td>0</td>\n",
       "      <td>-2.008</td>\n",
       "      <td>1</td>\n",
       "      <td>0.0507</td>\n",
       "      <td>0.011100</td>\n",
       "      <td>0.000000</td>\n",
       "      <td>0.223</td>\n",
       "      <td>0.314</td>\n",
       "      <td>76.082</td>\n",
       "      <td>106463</td>\n",
       "      <td>4</td>\n",
       "    </tr>\n",
       "    <tr>\n",
       "      <th>01VGA34ATxwp0Xo1ldduo2</th>\n",
       "      <td>0.652</td>\n",
       "      <td>0.455</td>\n",
       "      <td>8</td>\n",
       "      <td>-8.673</td>\n",
       "      <td>1</td>\n",
       "      <td>0.1150</td>\n",
       "      <td>0.855000</td>\n",
       "      <td>0.000000</td>\n",
       "      <td>0.171</td>\n",
       "      <td>0.325</td>\n",
       "      <td>83.151</td>\n",
       "      <td>875307</td>\n",
       "      <td>4</td>\n",
       "    </tr>\n",
       "    <tr>\n",
       "      <th>01kYL8egWVVF09irxev3dh</th>\n",
       "      <td>0.759</td>\n",
       "      <td>0.782</td>\n",
       "      <td>11</td>\n",
       "      <td>-6.975</td>\n",
       "      <td>0</td>\n",
       "      <td>0.0741</td>\n",
       "      <td>0.000589</td>\n",
       "      <td>0.000000</td>\n",
       "      <td>0.350</td>\n",
       "      <td>0.507</td>\n",
       "      <td>131.040</td>\n",
       "      <td>352853</td>\n",
       "      <td>4</td>\n",
       "    </tr>\n",
       "    <tr>\n",
       "      <th>01wKeKPgYxdPYA8rfMveYc</th>\n",
       "      <td>0.682</td>\n",
       "      <td>0.717</td>\n",
       "      <td>1</td>\n",
       "      <td>-3.682</td>\n",
       "      <td>1</td>\n",
       "      <td>0.2460</td>\n",
       "      <td>0.385000</td>\n",
       "      <td>0.000000</td>\n",
       "      <td>0.152</td>\n",
       "      <td>0.507</td>\n",
       "      <td>90.147</td>\n",
       "      <td>426997</td>\n",
       "      <td>4</td>\n",
       "    </tr>\n",
       "    <tr>\n",
       "      <th>03S5vMBN07OOnPj1SCMsxV</th>\n",
       "      <td>0.468</td>\n",
       "      <td>0.912</td>\n",
       "      <td>1</td>\n",
       "      <td>-6.909</td>\n",
       "      <td>0</td>\n",
       "      <td>0.4480</td>\n",
       "      <td>0.087400</td>\n",
       "      <td>0.000015</td>\n",
       "      <td>0.128</td>\n",
       "      <td>0.438</td>\n",
       "      <td>139.505</td>\n",
       "      <td>334907</td>\n",
       "      <td>4</td>\n",
       "    </tr>\n",
       "  </tbody>\n",
       "</table>\n",
       "</div>"
      ],
      "text/plain": [
       "                        danceability  energy  key  loudness  mode  \\\n",
       "00ogmsZiK6dB0QVUDBeehZ         0.361   0.793    0    -2.008     1   \n",
       "01VGA34ATxwp0Xo1ldduo2         0.652   0.455    8    -8.673     1   \n",
       "01kYL8egWVVF09irxev3dh         0.759   0.782   11    -6.975     0   \n",
       "01wKeKPgYxdPYA8rfMveYc         0.682   0.717    1    -3.682     1   \n",
       "03S5vMBN07OOnPj1SCMsxV         0.468   0.912    1    -6.909     0   \n",
       "\n",
       "                        speechiness  acousticness  instrumentalness  liveness  \\\n",
       "00ogmsZiK6dB0QVUDBeehZ       0.0507      0.011100          0.000000     0.223   \n",
       "01VGA34ATxwp0Xo1ldduo2       0.1150      0.855000          0.000000     0.171   \n",
       "01kYL8egWVVF09irxev3dh       0.0741      0.000589          0.000000     0.350   \n",
       "01wKeKPgYxdPYA8rfMveYc       0.2460      0.385000          0.000000     0.152   \n",
       "03S5vMBN07OOnPj1SCMsxV       0.4480      0.087400          0.000015     0.128   \n",
       "\n",
       "                        valence    tempo  duration_ms  time_signature  \n",
       "00ogmsZiK6dB0QVUDBeehZ    0.314   76.082       106463               4  \n",
       "01VGA34ATxwp0Xo1ldduo2    0.325   83.151       875307               4  \n",
       "01kYL8egWVVF09irxev3dh    0.507  131.040       352853               4  \n",
       "01wKeKPgYxdPYA8rfMveYc    0.507   90.147       426997               4  \n",
       "03S5vMBN07OOnPj1SCMsxV    0.438  139.505       334907               4  "
      ]
     },
     "execution_count": 17,
     "metadata": {},
     "output_type": "execute_result"
    }
   ],
   "source": [
    "audio_features_df = pd.DataFrame.from_dict(track_features,orient='index')\n",
    "#removal of non-essential columns, remember the 'id' column is our index\n",
    "audio_features_df = audio_features_df.drop(['analysis_url','track_href','uri','type','id'],axis=1)\n",
    "audio_features_df.head()"
   ]
  },
  {
   "cell_type": "markdown",
   "metadata": {},
   "source": [
    "## 6. Merge all DataFrames\n",
    "\n",
    "Our last step is to bring all the relevant data into a single dataframe. This will include not only the audio features we set out to acquire but also the track title, album title, and artist name. \n",
    "\n",
    "We'll work backwards from our Audio Features dataframe and incrementally merge in relevant information first with our Track Dataframe, then with our Album DataFrame. Throughout we'll keep the *track id* as the index of each row."
   ]
  },
  {
   "cell_type": "code",
   "execution_count": 18,
   "metadata": {
    "collapsed": true
   },
   "outputs": [],
   "source": [
    "df = audio_features_df.merge(track_df,left_index=True,right_index=True)"
   ]
  },
  {
   "cell_type": "code",
   "execution_count": 32,
   "metadata": {},
   "outputs": [
    {
     "name": "stdout",
     "output_type": "stream",
     "text": [
      "                            track        album         artist  danceability  \\\n",
      "00ogmsZiK6dB0QVUDBeehZ  Soliloquy  Cilvia Demo  Isaiah Rashad         0.361   \n",
      "\n",
      "                        energy  loudness  speechiness  acousticness  \\\n",
      "00ogmsZiK6dB0QVUDBeehZ   0.793    -2.008       0.0507        0.0111   \n",
      "\n",
      "                        instrumentalness  liveness  valence   tempo  \\\n",
      "00ogmsZiK6dB0QVUDBeehZ               0.0     0.223    0.314  76.082   \n",
      "\n",
      "                        duration_ms  key  mode  time_signature  \n",
      "00ogmsZiK6dB0QVUDBeehZ       106463    0     1               4  \n",
      "Number of Rows: 333\n"
     ]
    }
   ],
   "source": [
    "print(df.head(1))\n",
    "print('Number of Rows: {}'.format(df.shape[0]))"
   ]
  },
  {
   "cell_type": "code",
   "execution_count": 20,
   "metadata": {
    "collapsed": true
   },
   "outputs": [],
   "source": [
    "df = df.merge(album_df,left_on='album_id',right_index=True)"
   ]
  },
  {
   "cell_type": "code",
   "execution_count": 33,
   "metadata": {},
   "outputs": [
    {
     "name": "stdout",
     "output_type": "stream",
     "text": [
      "                            track        album         artist  danceability  \\\n",
      "00ogmsZiK6dB0QVUDBeehZ  Soliloquy  Cilvia Demo  Isaiah Rashad         0.361   \n",
      "\n",
      "                        energy  loudness  speechiness  acousticness  \\\n",
      "00ogmsZiK6dB0QVUDBeehZ   0.793    -2.008       0.0507        0.0111   \n",
      "\n",
      "                        instrumentalness  liveness  valence   tempo  \\\n",
      "00ogmsZiK6dB0QVUDBeehZ               0.0     0.223    0.314  76.082   \n",
      "\n",
      "                        duration_ms  key  mode  time_signature  \n",
      "00ogmsZiK6dB0QVUDBeehZ       106463    0     1               4  \n",
      "Number of Rows: 333\n"
     ]
    }
   ],
   "source": [
    "print(df.head(1))\n",
    "print('Number of Rows: {}'.format(df.shape[0]))"
   ]
  },
  {
   "cell_type": "code",
   "execution_count": 22,
   "metadata": {
    "collapsed": true
   },
   "outputs": [],
   "source": [
    "#removal of album_id column\n",
    "df = df.drop(['album_id'],axis=1)"
   ]
  },
  {
   "cell_type": "code",
   "execution_count": 23,
   "metadata": {
    "collapsed": true
   },
   "outputs": [],
   "source": [
    "# reordering columns\n",
    "cols = ['track','album','artist','danceability','energy',\n",
    "        'loudness','speechiness','acousticness','instrumentalness',\n",
    "        'liveness','valence','tempo','duration_ms','key','mode','time_signature'\n",
    "       ]\n",
    "df = df[cols]"
   ]
  },
  {
   "cell_type": "code",
   "execution_count": 24,
   "metadata": {},
   "outputs": [
    {
     "name": "stdout",
     "output_type": "stream",
     "text": [
      "                            track        album         artist  danceability  \\\n",
      "00ogmsZiK6dB0QVUDBeehZ  Soliloquy  Cilvia Demo  Isaiah Rashad         0.361   \n",
      "\n",
      "                        energy  loudness  speechiness  acousticness  \\\n",
      "00ogmsZiK6dB0QVUDBeehZ   0.793    -2.008       0.0507        0.0111   \n",
      "\n",
      "                        instrumentalness  liveness  valence   tempo  \\\n",
      "00ogmsZiK6dB0QVUDBeehZ               0.0     0.223    0.314  76.082   \n",
      "\n",
      "                        duration_ms  key  mode  time_signature  \n",
      "00ogmsZiK6dB0QVUDBeehZ       106463    0     1               4  \n"
     ]
    }
   ],
   "source": [
    "print(df.head(1))"
   ]
  },
  {
   "cell_type": "markdown",
   "metadata": {},
   "source": [
    "## Thanks for Reading!\n",
    "\n",
    "Hopefully there was some learning points along the way or aspects you could take away from this and make better. Nonetheless, I encourage you to go out and create a dataset of your own favorite artists. I'll be using this dataset for EDA and will post up the dataset for anyone else who would like to do the same. "
   ]
  },
  {
   "cell_type": "code",
   "execution_count": 25,
   "metadata": {},
   "outputs": [
    {
     "data": {
      "image/png": "[encoded data removed]",
      "text/plain": [
       "<Figure size 432x288 with 1 Axes>"
      ]
     },
     "metadata": {},
     "output_type": "display_data"
    }
   ],
   "source": [
    "import matplotlib.pyplot as plt\n",
    "\n",
    "labels = ['danceability']\n",
    "fig, ax = plt.subplots()\n",
    "ax.boxplot(df['danceability'])\n",
    "ax.set_ylim(0,1)\n",
    "ax.set_xticklabels(labels)\n",
    "plt.show()"
   ]
  },
  {
   "cell_type": "code",
   "execution_count": 26,
   "metadata": {},
   "outputs": [
    {
     "data": {
      "image/png": "[encoded data removed]",
      "text/plain": [
       "<Figure size 432x288 with 1 Axes>"
      ]
     },
     "metadata": {},
     "output_type": "display_data"
    }
   ],
   "source": [
    "labels = ['speechiness']\n",
    "fig, ax = plt.subplots()\n",
    "ax.boxplot(audio_features_df['speechiness'])\n",
    "ax.set_ylim(0,1)\n",
    "ax.set_xticklabels(labels)\n",
    "plt.show()"
   ]
  },
  {
   "cell_type": "code",
   "execution_count": 30,
   "metadata": {},
   "outputs": [
    {
     "data": {
      "image/png": "[encoded data removed]",
      "text/plain": [
       "<Figure size 432x288 with 1 Axes>"
      ]
     },
     "metadata": {},
     "output_type": "display_data"
    }
   ],
   "source": [
    "labels = ['tempo']\n",
    "fig, ax = plt.subplots()\n",
    "ax.boxplot(audio_features_df['tempo'])\n",
    "ax.set_ylim(0,200)\n",
    "ax.set_xticklabels(labels)\n",
    "plt.show()"
   ]
  }
 ],
 "metadata": {
  "kernelspec": {
   "display_name": "Python 3",
   "language": "python",
   "name": "python3"
  },
  "language_info": {
   "codemirror_mode": {
    "name": "ipython",
    "version": 3
   },
   "file_extension": ".py",
   "mimetype": "text/x-python",
   "name": "python",
   "nbconvert_exporter": "python",
   "pygments_lexer": "ipython3",
   "version": "3.6.8"
  }
 },
 "nbformat": 4,
 "nbformat_minor": 2
}
